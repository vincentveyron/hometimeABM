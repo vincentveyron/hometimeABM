{
 "nbformat": 4,
 "nbformat_minor": 2,
 "metadata": {
  "language_info": {
   "name": "python",
   "codemirror_mode": {
    "name": "ipython",
    "version": 3
   },
   "version": "3.7.6-final"
  },
  "orig_nbformat": 2,
  "file_extension": ".py",
  "mimetype": "text/x-python",
  "name": "python",
  "npconvert_exporter": "python",
  "pygments_lexer": "ipython3",
  "version": 3,
  "kernelspec": {
   "name": "python37664bithometimeabmcondad73b18dc80154d55ba9a66ca039e4933",
   "display_name": "Python 3.7.6 64-bit ('hometimeABM': conda)"
  }
 },
 "cells": [
  {
   "cell_type": "markdown",
   "execution_count": null,
   "metadata": {},
   "outputs": [],
   "source": [
    "create restaurants table"
   ]
  },
  {
   "cell_type": "code",
   "execution_count": 1,
   "metadata": {},
   "outputs": [],
   "source": [
    "import sqlite3\n",
    "from database.database_helper import create_restaurants_table\n",
    "db_connection = sqlite3.connect('hometimeABM_database.db')\n",
    "create_restaurants_table(db_connection)"
   ]
  },
  {
   "cell_type": "code",
   "execution_count": 2,
   "metadata": {},
   "outputs": [],
   "source": [
    "from database.database_helper import add_restaurant\n",
    "add_restaurant(db_connection, 'bomboclat', 69.69, 69.69)\n",
    "add_restaurant(db_connection, 'batsoup', 33.33, 33.33)"
   ]
  },
  {
   "cell_type": "code",
   "execution_count": 3,
   "metadata": {},
   "outputs": [
    {
     "data": {
      "text/plain": "[('bomboclat', 69.69, 69.69), ('batsoup', 33.33, 33.33)]"
     },
     "execution_count": 3,
     "metadata": {},
     "output_type": "execute_result"
    }
   ],
   "source": [
    "from database.database_helper import get_all_restaurants\n",
    "get_all_restaurants(db_connection)"
   ]
  },
  {
   "cell_type": "markdown",
   "execution_count": null,
   "metadata": {},
   "outputs": [],
   "source": [
    "This is an initial run of our model"
   ]
  },
  {
   "cell_type": "code",
   "execution_count": 4,
   "metadata": {},
   "outputs": [
    {
     "name": "stdout",
     "output_type": "stream",
     "text": ".9802047171146109\n82's utility is 1.3765145460618013\n54 stage one\n54's utility is 0.507528502201069\n54's utility is 0.8832006789313294\n47 stage one\n47's utility is 0.5969660257269301\n47's utility is 0.85387387345111\n68 stage one\n68's utility is 0.493609809782469\n68's utility is 0.6215316452416233\n14 stage one\n14's utility is 0.24095027067807584\n14's utility is 0.639795006029431\n44 stage one\n44's utility is -0.07433985144627941\n44's utility is 1.116028347776932\n21 stage one\n21's utility is 0.4681708204263214\n21's utility is 0.4028619494743163\n69 stage one\n69's utility is 0.6673664209665742\n69's utility is 0.6745673856000611\n76 stage one\n76's utility is 0.018448222333748987\n76's utility is -1.5033534642469661\n63 stage one\n63's utility is 0.04882412801967906\n63's utility is 1.234143947180619\n65 stage one\n65's utility is 0.3404013709322071\n65's utility is 0.17224387570714994\n4 stage one\n4's utility is 0.5355773836450484\n4's utility is 0.20883596995040843\n61 stage one\n61's utility is 0.8202427606809115\n61's utility is 0.5789569332727803\n89 stage one\n89's utility is 1.2139568492164354\n89's utility is 1.2918870687489385\n38 stage one\n38's utility is 0.10696735149197911\n38's utility is 0.8135415143400646\n33 stage one\n33's utility is 0.6936959738781014\n33's utility is 1.5965718476437885\n2 stage one\n2's utility is 0.3115918678088885\n2's utility is 0.853242230171579\n70 stage one\n70's utility is 0.2777725890189343\n70's utility is 1.1418114250049183\n24 stage one\n24's utility is -2.153785689880191\n24's utility is -1.7138972992043142\n48 stage one\n48's utility is -0.08129246261978174\n48's utility is 0.6314206740248756\n92 stage one\n92's utility is 0.1118729228368518\n92's utility is 1.4117206031696699\n53 stage one\n53's utility is 0.7555649408148009\n53's utility is 0.7867859293398978\n22 stage one\n22's utility is 1.1244935694959743\n22's utility is 0.9145681674628856\n58 stage one\n58's utility is 0.7660992287955961\n58's utility is 0.40785663209112943\n50 stage one\n50's utility is -0.05915814066606423\n50's utility is 0.24926267357765852\n32 stage one\n32's utility is 0.9583280477734029\n32's utility is 1.2041168462421126\n13 stage one\n13's utility is 0.5608707583632286\n13's utility is 0.3760791823394192\n64 stage one\n64's utility is 0.3932998853619514\n64's utility is 0.3315910452579091\n6 stage one\n6's utility is 0.32380924267056266\n6's utility is 0.4148271194485698\n20 stage one\n20's utility is -0.07016044286604628\n20's utility is 1.1362273772654845\n27 stage one\n27's utility is -0.25855653452215255\n27's utility is 0.4263918993264942\n37 stage one\n37's utility is 0.8843575489848895\n37's utility is 0.4751725837476948\n30 stage one\n30's utility is -0.15885238247460515\n30's utility is 0.9820647760923603\n71 stage one\n71's utility is -0.07626729492369477\n71's utility is 0.3507916942842053\n1 stage one\n1's utility is 0.8445461624934153\n1's utility is 1.074737446648232\n99 stage one\n99's utility is 0.6454303554856501\n99's utility is 0.3765990683044629\n66 stage one\n66's utility is 0.33593013596815496\n66's utility is -0.6506162672911837\n46 stage one\n46's utility is 1.4691714954910335\n46's utility is 0.804078060473003\n90 stage one\n90's utility is 0.7663639590939051\n90's utility is 1.2175927438853889\n66 stage one\n66's utility is -0.13218661014087119\n66's utility is -1.11873301340021\n73 stage one\n73's utility is -1.1625886808487302\n73's utility is -0.07847498078422777\n87 stage one\n87's utility is 0.14807924896440994\n87's utility is 0.4671461624483836\n8 stage one\n8's utility is -1.3544909490017232\n8's utility is -1.1355416812081534\n17 stage one\n17's utility is -1.385729114658045\n17's utility is -0.8114245075142827\n4 stage one\n4's utility is 0.15801646695219118\n4's utility is -0.16872494674244876\n23 stage one\n23's utility is 0.3504799946051984\n23's utility is 0.3323571155047006\n80 stage one\n80's utility is 0.5047701317339697\n80's utility is 0.37914922876078727\n99 stage one\n99's utility is 0.2950384935626425\n99's utility is 0.026207206381455184\n68 stage one\n68's utility is -0.34878121619883007\n68's utility is -0.22085938073967576\n40 stage one\n40's utility is 0.5084563737080082\n40's utility is -0.23497074044962485\n34 stage one\n34's utility is -1.0939907989064244\n34's utility is -1.0894841905646564\n95 stage one\n95's utility is -0.6020367707304008\n95's utility is -0.25398395121160844\n21 stage one\n21's utility is -0.41703885577173144\n21's utility is -0.4823477267237365\n36 stage one\n36's utility is 0.9059909836864561\n36's utility is -0.019466325255664885\n55 stage one\n55's utility is -0.5361869719940575\n55's utility is -1.4202312523980638\n60 stage one\n60's utility is -0.26757452817548844\n60's utility is -0.2720723286623314\n98 stage one\n98's utility is -0.06094170506152097\n98's utility is 0.9656224837850776\n14 stage one\n14's utility is -0.53396446742083\n14's utility is -0.13511973206947492\n53 stage one\n53's utility is 0.4464498234927876\n53's utility is 0.4776708120178846\n70 stage one\n70's utility is -0.1453304489100199\n70's utility is 0.718708387075964\n11 stage one\n11's utility is 0.41103656774018366\n11's utility is -0.44311689012626776\n47 stage one\n47's utility is -0.011475466801655454\n47's utility is 0.24543238092252456\n35 stage one\n35's utility is -0.38121103573095927\n35's utility is 0.33947192471166526\n58 stage one\n58's utility is 0.47400298624470105\n58's utility is 0.11576038954023438\n76 stage one\n76's utility is -0.16185560219524864\n76's utility is -1.683657288775964\n51 stage one\n51's utility is 0.31653110668995454\n51's utility is 0.13613409678899718\n43 stage one\n43's utility is 0.6088645535776619\n43's utility is 0.5356171042900519\n90 stage one\n90's utility is 0.5400214091305742\n90's utility is 0.9912501939220579\n91 stage one\n91's utility is 1.2305386205894204\n91's utility is 0.45530497301189654\n75 stage one\n75's utility is 0.3662583328034674\n75's utility is -0.1472567076226362\n29 stage one\n29's utility is -2.6873493249968536\n29's utility is -2.1772552176694484\n77 stage one\n77's utility is -2.4047992196632326\n77's utility is -2.8485214377506427\n59 stage one\n59's utility is -1.0242512939757926\n59's utility is -0.34762872267985245\n74 stage one\n74's utility is -0.04713221263231826\n74's utility is -0.5880910606867453\n71 stage one\n71's utility is -0.5574654427218517\n71's utility is -0.13040645351395158\n67 stage one\n67's utility is -1.8680173069202237\n67's utility is -1.6738554933470395\n26 stage one\n26's utility is -0.7296765501639418\n26's utility is -0.1226845660006903\n9 stage one\n9's utility is -2.02913232996952\n9's utility is -1.3892888111486315\n32 stage one\n32's utility is 0.48684315198476225\n32's utility is 0.732631950453472\n50 stage one\n50's utility is -0.7614772457721943\n50's utility is -0.4530564315284715\n65 stage one\n65's utility is -0.1307468639003192\n65's utility is -0.29890435912537616\n28 stage one\n28's utility is 1.3652130963549696\n28's utility is 0.8954211914843072\n69 stage one\n69's utility is 0.00534640623975971\n69's utility is 0.012547370873246755\n5 stage one\n5's utility is -0.5456747012820216\n5's utility is 0.8158356710817116\n62 stage one\n62's utility is 0.547132014047631\n62's utility is 0.12652980278680404\n12 stage one\n12's utility is 0.3497412250759925\n12's utility is 0.1985696435866819\n19 stage one\n19's utility is 0.31819044459016244\n19's utility is 0.059212664119746905\n25 stage one\n25's utility is 0.08750301230049584\n25's utility is 0.4677160982293641\n83 stage one\n83's utility is -0.040872339094137206\n83's utility is -0.14146855166793748\n42 stage one\n42's utility is -0.9335406681440408\n42's utility is -0.8164675957846028\n63 stage one\n63's utility is -0.5715055508978848\n63's utility is 0.6138142682630552\n79 stage one\n79's utility is 0.5153074737134575\n79's utility is 0.12082723516079918\n44 stage one\n44's utility is -0.5714553646846801\n44's utility is 0.6189128345385313\n39 stage one\n39's utility is -0.618126107414549\n39's utility is 0.1397628788713593\n49 stage one\n49's utility is -0.9090310198776219\n49's utility is -1.4224889740546274\n61 stage one\n61's utility is 0.668033798933684\n61's utility is 0.426747971525553\n38 stage one\n38's utility is -0.3811917453013368\n38's utility is 0.3253824175467488\n54 stage one\n54's utility is -0.33968779873592864\n54's utility is 0.03598437799433157\n93 stage one\n93's utility is 0.004392030523435786\n93's utility is 0.8778363196982599\n10 stage one\n10's utility is -0.34796558993506405\n10's utility is -0.9537041958990207\n92 stage one\n92's utility is -0.16147365235398647\n92's utility is 1.1383740279788317\n46 stage one\n46's utility is 1.0350210968319384\n46's utility is 0.3699276618139079\n3 stage one\n3's utility is -0.02206989069705087\n3's utility is 0.4490266489941953\n7 stage one\n7's utility is -0.06767590374069621\n7's utility is -0.7786307925011862\n96 stage one\n96's utility is -1.8232738471969363\n96's utility is -2.355265267470077\n27 stage one\n27's utility is -0.9682416521449758\n27's utility is -0.2832932182963291\n41 stage one\n41's utility is -0.2291273347918866\n41's utility is 0.050868487608954516\n89 stage one\n89's utility is 0.8791253973357946\n89's utility is 0.9570556168682978\n24 stage one\n24's utility is -2.646817784796714\n24's utility is -2.206929394120837\n72 stage one\n72's utility is -0.41236506375328547\n72's utility is 0.01598094021303159\n48 stage one\n48's utility is -0.7217877898816687\n48's utility is -0.00907465323701151\n6 stage one\n6's utility is -0.0500089999332822\n6's utility is 0.04100887684472495\n30 stage one\n30's utility is -0.5448520566483238\n30's utility is 0.5960651019186416\n22 stage one\n22's utility is -0.11245726226959482\n22's utility is -0.3223826643026835\n0 stage one\n0's utility is -1.2885643230850776\n0's utility is -0.9478226310201333\n1 stage one\n1's utility is 0.6651283074530379\n1's utility is 0.8953195916078546\n78 stage one\n78's utility is 0.08704740296716956\n78's utility is -0.09530810569498432\n45 stage one\n45's utility is -0.30820183435537074\n45's utility is -0.08222532340915811\n94 stage one\n94's utility is 0.17028297091612926\n94's utility is 0.3239182541946324\n2 stage one\n2's utility is -0.06519589914497786\n2's utility is 0.4764544632177127\n82 stage one\n82's utility is -0.06869302033278157\n82's utility is 0.32761680861440895\n13 stage one\n13's utility is -0.027033482035597856\n13's utility is -0.21182505805940727\n64 stage one\n64's utility is -0.10763698026247329\n64's utility is -0.16934582036651552\n20 stage one\n20's utility is -0.5209997574767193\n20's utility is 0.6853880626548114\n81 stage one\n81's utility is -0.6371396763237591\n81's utility is 0.3586757620092929\n31 stage one\n31's utility is -1.271045782729463\n31's utility is -0.13806104147527454\n18 stage one\n18's utility is -0.418172296958088\n18's utility is -0.3276139825248634\n56 stage one\n56's utility is 0.5227097765068833\n56's utility is 0.26755187329853314\n15 stage one\n15's utility is 0.2901701867072337\n15's utility is -0.12920795124954487\n52 stage one\n52's utility is -0.7771651714783209\n52's utility is -1.176948388081904\n57 stage one\n57's utility is -1.7486528170242917\n57's utility is -0.8526018270530277\n84 stage one\n84's utility is 0.8814262333707952\n84's utility is -0.8939339422204668\n16 stage one\n16's utility is -0.3943604549138994\n16's utility is -0.383130976258267\n33 stage one\n33's utility is 0.05359622660071969\n33's utility is 0.956472100366407\n97 stage one\n97's utility is 0.008552086632157452\n97's utility is -1.7010750565043677\n86 stage one\n86's utility is 0.20545094346722237\n86's utility is 0.5345493045121564\n88 stage one\n88's utility is 0.5475083247384944\n88's utility is 0.08559825997024983\n85 stage one\n85's utility is 0.4919066169453486\n85's utility is 0.1706591732524117\n37 stage one\n37's utility is 0.44857690871115485\n37's utility is 0.039391943473960106\n9 stage one\n9's utility is -1.1161554740828012\n9's utility is -0.47631195526191283\n90 stage one\n90's utility is 0.7663639590939051\n90's utility is 1.2175927438853889\n41 stage one\n41's utility is 0.17351115741674053\n41's utility is 0.4535069798175816\n76 stage one\n76's utility is 0.018448222333748987\n76's utility is -1.5033534642469661\n83 stage one\n83's utility is 0.6916620489252655\n83's utility is 0.5910658363514654\n5 stage one\n5's utility is -0.27044290553178896\n5's utility is 1.0910674668319442\n80 stage one\n80's utility is 0.8983480785891738\n80's utility is 0.7727271756159914\n66 stage one\n66's utility is 0.33593013596815496\n66's utility is -0.6506162672911837\n72 stage one\n72's utility is 0.21096965917588711\n72's utility is 0.6393156631422042\n65 stage one\n65's utility is 0.3404013709322071\n65's utility is 0.17224387570714994\n10 stage one\n10's utility is 0.4041768851704296\n10's utility is -0.20156172079352697\n42 stage one\n42's utility is 0.09965012568444104\n42's utility is 0.21672319804387907\n35 stage one\n35's utility is -0.05506786657806417\n35's utility is 0.6656150938645604\n64 stage one\n64's utility is 0.3932998853619514\n64's utility is 0.3315910452579091\n55 stage one\n55's utility is 0.4497467684035441\n55's utility is -0.4342975120004621\n78 stage one\n78's utility is 0.4611196202647738\n78's utility is 0.27876411160261994\n79 stage one\n79's utility is 1.2801566668627766\n79's utility is 0.8856764283101184\n4 stage one\n4's utility is 0.5355773836450484\n4's utility is 0.20883596995040843\n3 stage one\n3's utility is 0.5061324610805265\n3's utility is 0.9772290007717727\n45 stage one\n45's utility is 0.3430627056399349\n45's utility is 0.5690392165861475\n88 stage one\n88's utility is 0.985699647019383\n88's utility is 0.5237895822511383\n98 stage one\n98's utility is 0.02667006325110366\n98's utility is 1.0532342520977025\n17 stage one\n17's utility is -0.4808918980544832\n17's utility is 0.0934127090892789\n12 stage one\n12's utility is 0.6841735612952461\n12's utility is 0.5330019798059356\n71 stage one\n71's utility is -0.07626729492369477\n71's utility is 0.3507916942842053\n33 stage one\n33's utility is 0.6936959738781014\n33's utility is 1.5965718476437885\n30 stage one\n30's utility is -0.15885238247460515\n30's utility is 0.9820647760923603\n92 stage one\n92's utility is 0.1118729228368518\n92's utility is 1.4117206031696699\n39 stage one\n39's utility is 0.28337265553817514\n39's utility is 1.0412616418240832\n52 stage one\n52's utility is -0.21695490217380753\n52's utility is -0.6167381187773906\n37 stage one\n37's utility is 0.8843575489848895\n37's utility is 0.4751725837476948\n81 stage one\n81's utility is -0.019586854954422805\n81's utility is 0.9762285833786293\n62 stage one\n62's utility is 1.0359670293871455\n62's utility is 0.6153648181263185\n2 stage one\n2's utility is 0.3115918678088885\n2's utility is 0.853242230171579\n59 stage one\n59's utility is -0.7997235041320632\n59's utility is -0.123100932836123\n13 stage one\n13's utility is 0.5608707583632286\n13's utility is 0.3760791823394192\n97 stage one\n97's utility is 0.7022348121213344\n97's utility is -1.0073923310151909\n24 stage one\n24's utility is -2.153785689880191\n24's utility is -1.7138972992043142\n82 stage one\n82's utility is 0.9802047171146109\n82's utility is 1.3765145460618013\n54 stage one\n54's utility is 0.507528502201069\n54's utility is 0.8832006789313294\n44 stage one\n44's utility is -0.07433985144627941\n44's utility is 1.116028347776932\n47 stage one\n47's utility is 0.5969660257269301\n47's utility is 0.85387387345111\n19 stage one\n19's utility is 0.9304140285418383\n19's utility is 0.6714362480714227\n95 stage one\n95's utility is 0.10194528533276256\n95's utility is 0.4499981048515551\n40 stage one\n40's utility is 1.1512540063479797\n40's utility is 0.40782689219034673\n84 stage one\n84's utility is 0.9835327039693942\n84's utility is -0.7918274716218681\n21 stage one\n21's utility is 0.4681708204263214\n21's utility is 0.4028619494743163\n85 stage one\n85's utility is 1.073882387519005\n85's utility is 0.7526349438260683\n29 stage one\n29's utility is -2.2764127467006854\n29's utility is -1.7663186393732802\n8 stage one\n8's utility is -0.2903594893124134\n8's utility is -0.07141022151884341\n68 stage one\n68's utility is 0.493609809782469\n68's utility is 0.6215316452416233\n6 stage one\n6's utility is 0.32380924267056266\n6's utility is 0.4148271194485698\n32 stage one\n32's utility is 0.9583280477734029\n32's utility is 1.2041168462421126\n89 stage one\n89's utility is 1.2139568492164354\n89's utility is 1.2918870687489385\n16 stage one\n16's utility is 0.4386590305964733\n16's utility is 0.4498885092521059\n1 stage one\n1's utility is 0.8445461624934153\n1's utility is 1.074737446648232\n15 stage one\n15's utility is 1.001491670705423\n15's utility is 0.5821135327486443\n56 stage one\n56's utility is 1.3122489142307756\n56's utility is 1.0570910110224254\n73 stage one\n73's utility is -1.161927138629541\n73's utility is -0.07781343856503842\n11 stage one\n11's utility is 0.8187813807006965\n11's utility is -0.035372077165754856\n14 stage one\n14's utility is 0.24095027067807584\n14's utility is 0.639795006029431\n58 stage one\n58's utility is 0.7660992287955961\n58's utility is 0.40785663209112943\n77 stage one\n77's utility is -2.129395048050827\n77's utility is -2.573117266138237\n36 stage one\n36's utility is 1.4549257683675696\n36's utility is 0.5294684594254486\n63 stage one\n63's utility is 0.04882412801967906\n63's utility is 1.234143947180619\n93 stage one\n93's utility is 0.3420657907106196\n93's utility is 1.2155100798854437\n94 stage one\n94's utility is 0.4687961537845858\n94's utility is 0.6224314370630888\n51 stage one\n51's utility is 1.0725816972290874\n51's utility is 0.89218468732813\n69 stage one\n69's utility is 0.6673664209665742\n69's utility is 0.6745673856000611\n48 stage one\n48's utility is -0.08129246261978174\n48's utility is 0.6314206740248756\n70 stage one\n70's utility is 0.2777725890189343\n70's utility is 1.1418114250049183\n86 stage one\n86's utility is 0.6752302135218695\n86's utility is 1.0043285745668036\n31 stage one\n31's utility is -1.1252793383325697\n31's utility is 0.007705402921619031\n75 stage one\n75's utility is 0.9600057114012026\n75's utility is 0.446490670975099\n61 stage one\n61's utility is 0.8202427606809115\n61's utility is 0.5789569332727803\n38 stage one\n38's utility is 0.10696735149197911\n38's utility is 0.8135415143400646\n18 stage one\n18's utility is 0.4833030496424334\n18's utility is 0.5738613640756582\n22 stage one\n22's utility is 1.1244935694959743\n22's utility is 0.9145681674628856\n46 stage one\n46's utility is 1.4691714954910335\n46's utility is 0.804078060473003\n26 stage one\n26's utility is -0.0562572250539517\n26's utility is 0.5507347591092998\n25 stage one\n25's utility is 0.7238539725602373\n25's utility is 1.1040670584891057\n0 stage one\n0's utility is -0.5092952588319499\n0's utility is -0.16855356676700572\n60 stage one\n60's utility is 0.26598812074044387\n60's utility is 0.2614903202536009\n91 stage one\n91's utility is 1.6798268019616132\n91's utility is 0.9045931543840893\n67 stage one\n67's utility is -1.8043368043939672\n67's utility is -1.6101749908207827\n74 stage one\n74's utility is 0.6273983749243969\n74's utility is 0.08643952686996992\n20 stage one\n20's utility is -0.07016044286604628\n20's utility is 1.1362273772654845\n50 stage one\n50's utility is -0.05915814066606423\n50's utility is 0.24926267357765852\n57 stage one\n57's utility is -1.373316219677127\n57's utility is -0.4772652297058629\n27 stage one\n27's utility is -0.25855653452215255\n27's utility is 0.4263918993264942\n87 stage one\n87's utility is 0.5764727146438285\n87's utility is 0.8955396281278021\n23 stage one\n23's utility is 0.5311320892122713\n23's utility is 0.5130092101117735\n7 stage one\n7's utility is 0.25778675039731075\n7's utility is -0.45316813836317915\n53 stage one\n53's utility is 0.7555649408148009\n53's utility is 0.7867859293398978\n49 stage one\n49's utility is -0.7233614027864095\n49's utility is -1.236819356963415\n99 stage one\n99's utility is 0.6454303554856501\n99's utility is 0.3765990683044629\n28 stage one\n28's utility is 1.7455328554925316\n28's utility is 1.2757409506218695\n96 stage one\n96's utility is -0.9353341249126628\n96's utility is -1.4673255451858034\n43 stage one\n43's utility is 0.9186273259861787\n43's utility is 0.8453798766985687\n34 stage one\n34's utility is -0.6594364562712458\n34's utility is -0.6549298479294778\n"
    }
   ],
   "source": [
    "from model.model import HometimeModel\n",
    "\n",
    "model = HometimeModel(db_connection)\n",
    "for i in range(0, 10):\n",
    "    model.step()"
   ]
  },
  {
   "cell_type": "code",
   "execution_count": 5,
   "metadata": {},
   "outputs": [
    {
     "data": {
      "text/html": "<div>\n<style scoped>\n    .dataframe tbody tr th:only-of-type {\n        vertical-align: middle;\n    }\n\n    .dataframe tbody tr th {\n        vertical-align: top;\n    }\n\n    .dataframe thead th {\n        text-align: right;\n    }\n</style>\n<table border=\"1\" class=\"dataframe\">\n  <thead>\n    <tr style=\"text-align: right;\">\n      <th></th>\n      <th></th>\n      <th>Last Choice</th>\n    </tr>\n    <tr>\n      <th>Step</th>\n      <th>AgentID</th>\n      <th></th>\n    </tr>\n  </thead>\n  <tbody>\n    <tr>\n      <th rowspan=\"5\" valign=\"top\">0</th>\n      <th>0</th>\n      <td>None</td>\n    </tr>\n    <tr>\n      <th>1</th>\n      <td>None</td>\n    </tr>\n    <tr>\n      <th>2</th>\n      <td>None</td>\n    </tr>\n    <tr>\n      <th>3</th>\n      <td>None</td>\n    </tr>\n    <tr>\n      <th>4</th>\n      <td>None</td>\n    </tr>\n  </tbody>\n</table>\n</div>",
      "text/plain": "             Last Choice\nStep AgentID            \n0    0              None\n     1              None\n     2              None\n     3              None\n     4              None"
     },
     "execution_count": 5,
     "metadata": {},
     "output_type": "execute_result"
    }
   ],
   "source": [
    "agent_vars = model.datacollector.get_agent_vars_dataframe()\n",
    "agent_vars.head()"
   ]
  },
  {
   "cell_type": "code",
   "execution_count": null,
   "metadata": {},
   "outputs": [],
   "source": []
  }
 ]
}