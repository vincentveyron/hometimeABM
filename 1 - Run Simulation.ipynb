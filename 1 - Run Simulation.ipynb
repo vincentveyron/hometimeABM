{
 "nbformat": 4,
 "nbformat_minor": 2,
 "metadata": {
  "language_info": {
   "name": "python",
   "codemirror_mode": {
    "name": "ipython",
    "version": 3
   },
   "version": "3.7.6-final"
  },
  "orig_nbformat": 2,
  "file_extension": ".py",
  "mimetype": "text/x-python",
  "name": "python",
  "npconvert_exporter": "python",
  "pygments_lexer": "ipython3",
  "version": 3,
  "kernelspec": {
   "name": "python37664bithometimeabmcondad73b18dc80154d55ba9a66ca039e4933",
   "display_name": "Python 3.7.6 64-bit ('hometimeABM': conda)"
  }
 },
 "cells": [
  {
   "cell_type": "markdown",
   "execution_count": null,
   "metadata": {},
   "outputs": [],
   "source": [
    "create restaurants table"
   ]
  },
  {
   "cell_type": "code",
   "execution_count": 1,
   "metadata": {},
   "outputs": [],
   "source": [
    "import sqlite3\n",
    "from database.database_helper import create_restaurants_table\n",
    "db_connection = sqlite3.connect('hometimeABM_database.db')\n",
    "create_restaurants_table(db_connection)"
   ]
  },
  {
   "cell_type": "code",
   "execution_count": 2,
   "metadata": {},
   "outputs": [],
   "source": [
    "from database.database_helper import add_restaurant\n",
    "add_restaurant(db_connection, 'bomboclat', 69.69, 69.69)\n",
    "add_restaurant(db_connection, 'batsoup', 33.33, 33.33)"
   ]
  },
  {
   "cell_type": "code",
   "execution_count": 3,
   "metadata": {},
   "outputs": [
    {
     "data": {
      "text/plain": "[('bomboclat', 69.69, 69.69), ('batsoup', 33.33, 33.33)]"
     },
     "execution_count": 3,
     "metadata": {},
     "output_type": "execute_result"
    }
   ],
   "source": [
    "from database.database_helper import get_all_restaurants\n",
    "get_all_restaurants(db_connection)"
   ]
  },
  {
   "cell_type": "markdown",
   "execution_count": null,
   "metadata": {},
   "outputs": [],
   "source": [
    "This is an initial run of our model"
   ]
  },
  {
   "cell_type": "code",
   "execution_count": 4,
   "metadata": {},
   "outputs": [
    {
     "name": "stdout",
     "output_type": "stream",
     "text": "00606402284\n1's utility is -0.8963746616438255\n65 stage one\n65's utility is 0.429542885285057\n65's utility is -0.0701878281126248\n33 stage one\n33's utility is 1.1452813342227428\n33's utility is 0.8638443971333453\n51 stage one\n51's utility is 0.07367941865839422\n51's utility is 1.2021392891594642\n42 stage one\n42's utility is 1.187130726044957\n42's utility is 0.5513255976128477\n22 stage one\n22's utility is 0.3297618325767091\n22's utility is 0.15412241091194062\n40 stage one\n40's utility is 0.8750098050259832\n40's utility is 0.9928901964599978\n47 stage one\n47's utility is 0.3251593832688355\n47's utility is 0.14008726895717138\n3 stage one\n3's utility is 0.1654303814265382\n3's utility is 0.9362161486660374\n58 stage one\n58's utility is 1.0992601975214107\n58's utility is 1.363214155752642\n86 stage one\n86's utility is 0.860459128772962\n86's utility is 1.2636811720992625\n75 stage one\n75's utility is 0.9415469152814022\n75's utility is 0.8480026444973896\n70 stage one\n70's utility is 0.4850932234624192\n70's utility is 0.1822287329439395\n71 stage one\n71's utility is 1.1963941429113798\n71's utility is 0.04216313706586883\n39 stage one\n39's utility is -0.14063703692040475\n39's utility is 0.985397138254306\n85 stage one\n85's utility is 0.4413922427897482\n85's utility is 0.9711912180408551\n77 stage one\n77's utility is 0.4357844218173836\n77's utility is 0.6627480243651277\n12 stage one\n12's utility is 0.45727911304440266\n12's utility is 0.7842603780880363\n50 stage one\n50's utility is 1.1987756557850109\n50's utility is 1.2665869919255133\n82 stage one\n82's utility is 0.7530571689702983\n82's utility is 0.41000999655443027\n38 stage one\n38's utility is 1.0443665188656137\n38's utility is 0.5435158737004012\n53 stage one\n53's utility is -2.038286242713154\n53's utility is -0.9872405953366191\n0 stage one\n0's utility is 1.5598850083133589\n0's utility is 1.1624201372715735\n44 stage one\n44's utility is 0.8561582214179843\n44's utility is 0.840770725149647\n74 stage one\n74's utility is 0.2659248819070381\n74's utility is 0.61796528143654\n16 stage one\n16's utility is 0.41364709717969705\n16's utility is 0.5864055914503533\n55 stage one\n55's utility is 0.9770915651337653\n55's utility is 0.7221726720126856\n91 stage one\n91's utility is 0.7097643686780108\n91's utility is 0.7362921189218026\n84 stage one\n84's utility is 0.618402498678918\n84's utility is 0.630047283245812\n41 stage one\n41's utility is 0.9741822844485051\n41's utility is 1.5330599066308987\n97 stage one\n97's utility is 0.03820110665283899\n97's utility is -0.24732026728826506\n67 stage one\n67's utility is 0.5694123539936436\n67's utility is 1.0515872861797195\n63 stage one\n63's utility is 1.00749733456072\n63's utility is 0.8504988943930336\n32 stage one\n32's utility is 0.3059162022510853\n32's utility is -0.4415876920813211\n27 stage one\n27's utility is 0.7183141835754128\n27's utility is 0.7034341109783115\n21 stage one\n21's utility is 0.5601304215588858\n21's utility is 0.24481259856917736\n96 stage one\n96's utility is 0.5348370047238966\n96's utility is 1.0777130074020262\n45 stage one\n45's utility is 1.1243723144333142\n45's utility is 1.8661017565036149\n56 stage one\n56's utility is 0.7752604178369514\n56's utility is 1.0118970679963608\n98 stage one\n98's utility is 0.9604510152532986\n98's utility is 0.8309746508416699\n32 stage one\n32's utility is -0.3107370853795785\n32's utility is -1.058240979711985\n15 stage one\n15's utility is -0.44043467557492233\n15's utility is -0.5712891050456547\n59 stage one\n59's utility is 0.41638652141684657\n59's utility is 0.2623381863035015\n16 stage one\n16's utility is -0.4222957880714222\n16's utility is -0.24953729380076595\n29 stage one\n29's utility is 0.11021842922669539\n29's utility is -0.8869199246391903\n99 stage one\n99's utility is -0.3133192361691968\n99's utility is -0.3368359358050527\n76 stage one\n76's utility is -0.575341516562636\n76's utility is -0.5640457433148274\n73 stage one\n73's utility is 0.15430238220295256\n73's utility is 0.2906288533296788\n48 stage one\n48's utility is 0.7956392800636061\n48's utility is 0.3514234622074968\n86 stage one\n86's utility is 0.5308832817580552\n86's utility is 0.9341053250843556\n41 stage one\n41's utility is 0.5053238906214963\n41's utility is 1.06420151280389\n63 stage one\n63's utility is 0.6037141255146703\n63's utility is 0.44671568534698364\n5 stage one\n5's utility is 0.6997811688167112\n5's utility is 0.598751656951988\n75 stage one\n75's utility is 0.090826515599366\n75's utility is -0.0027177551846467307\n89 stage one\n89's utility is 0.141943234655669\n89's utility is -0.15059018759561849\n19 stage one\n19's utility is 0.5509419039966682\n19's utility is 0.25455638989253043\n37 stage one\n37's utility is 0.3581699254352373\n37's utility is 0.6840014997177108\n44 stage one\n44's utility is 0.47004878290574437\n44's utility is 0.45466128663740724\n93 stage one\n93's utility is -1.4425342387871338\n93's utility is -2.3241159662928865\n7 stage one\n7's utility is 0.24694007283129235\n7's utility is 0.37963855595573726\n81 stage one\n81's utility is 0.32076075708375995\n81's utility is -0.11186246383701826\n65 stage one\n65's utility is -0.08057044170201699\n65's utility is -0.5803011550996988\n10 stage one\n10's utility is -1.7862450667522574\n10's utility is -0.06752750072518887\n35 stage one\n35's utility is -0.1302902584440352\n35's utility is -1.2364509000860486\n82 stage one\n82's utility is 0.33980655024427303\n82's utility is -0.0032406221715949313\n87 stage one\n87's utility is 0.5149969127403198\n87's utility is 0.4271537770395214\n74 stage one\n74's utility is -0.21162219234880775\n74's utility is 0.14041820718069392\n3 stage one\n3's utility is -0.4493002479886492\n3's utility is 0.32148551925085\n20 stage one\n20's utility is -1.229259650651144\n20's utility is -1.9966120038212454\n28 stage one\n28's utility is 0.9785008514894501\n28's utility is -0.44001049943240667\n68 stage one\n68's utility is -1.7946936127745758\n68's utility is -0.8162154875798999\n17 stage one\n17's utility is 0.06344082456576194\n17's utility is -0.04412526025643548\n0 stage one\n0's utility is 0.6614062566012173\n0's utility is 0.263941385559432\n94 stage one\n94's utility is 0.37617855338968026\n94's utility is 0.16890257554255061\n83 stage one\n83's utility is -0.25337720435511424\n83's utility is -0.3037935672172913\n12 stage one\n12's utility is -0.25998248412345454\n12's utility is 0.06699878092017902\n2 stage one\n2's utility is 0.0915205775085004\n2's utility is 0.5137574876968357\n8 stage one\n8's utility is 0.5414978373433967\n8's utility is 1.1787529874041756\n85 stage one\n85's utility is -0.14174146641482965\n85's utility is 0.38805750883627715\n80 stage one\n80's utility is 0.06590490370359448\n80's utility is -0.06792756202149342\n39 stage one\n39's utility is -0.659157169759065\n39's utility is 0.4668770054156457\n45 stage one\n45's utility is 0.7003369228497424\n45's utility is 1.442066364920043\n70 stage one\n70's utility is -0.35103854397572604\n70's utility is -0.6539030344942057\n9 stage one\n9's utility is 0.3490092114584161\n9's utility is 0.329424620158313\n31 stage one\n31's utility is -0.22561771236281203\n31's utility is 0.6736978515810423\n21 stage one\n21's utility is 0.2380301555899797\n21's utility is -0.07728766739972881\n78 stage one\n78's utility is 0.9510422990389678\n78's utility is -0.03952919679757305\n25 stage one\n25's utility is -0.3170971957618717\n25's utility is 0.48313526617814184\n13 stage one\n13's utility is 0.14046367140519145\n13's utility is 0.14625361276788362\n90 stage one\n90's utility is 0.05695729295041041\n90's utility is 0.052889949517006984\n98 stage one\n98's utility is 0.7261501347158643\n98's utility is 0.5966737703042356\n60 stage one\n60's utility is -0.29474654687220136\n60's utility is 0.11467241812058779\n1 stage one\n1's utility is -0.2717002464643168\n1's utility is -0.8056148474679139\n14 stage one\n14's utility is -0.15957507277340688\n14's utility is -0.24283280098642557\n11 stage one\n11's utility is 0.08629345380925213\n11's utility is 0.5114441086100988\n56 stage one\n56's utility is 0.3247049575448355\n56's utility is 0.5613416077042448\n62 stage one\n62's utility is 0.781059312109156\n62's utility is 0.2929344643330916\n69 stage one\n69's utility is 0.31548870104666255\n69's utility is 0.2419041079364388\n52 stage one\n52's utility is -0.3665476942797238\n52's utility is -0.6575008800969155\n72 stage one\n72's utility is 0.9237567690430437\n72's utility is 0.3027529559469503\n71 stage one\n71's utility is 0.9316610001624152\n71's utility is -0.22257000568309593\n58 stage one\n58's utility is 0.33799479588503445\n58's utility is 0.6019487541162657\n61 stage one\n61's utility is 0.8790073599410559\n61's utility is 0.25729914336628806\n88 stage one\n88's utility is 0.14688650569237607\n88's utility is -0.12842116560690608\n47 stage one\n47's utility is -0.3939268197517259\n47's utility is -0.57899893406339\n27 stage one\n27's utility is 0.3859371807612867\n27's utility is 0.3710571081641854\n95 stage one\n95's utility is -0.7119203979078137\n95's utility is -1.4112650955520776\n18 stage one\n18's utility is 0.396281864349676\n18's utility is 0.39645989025891704\n67 stage one\n67's utility is 0.050060202755212835\n67's utility is 0.5322351349412886\n6 stage one\n6's utility is 0.5500125477976874\n6's utility is 0.8646253202853118\n55 stage one\n55's utility is 0.2067673367439566\n55's utility is -0.04815155637712287\n46 stage one\n46's utility is 0.3430433199410813\n46's utility is 0.24257593651876902\n34 stage one\n34's utility is 0.4245090996121491\n34's utility is 0.32654279612782716\n49 stage one\n49's utility is 0.530615435495772\n49's utility is 0.39981319655232084\n54 stage one\n54's utility is 0.8406406836371629\n54's utility is -0.7867025357212003\n64 stage one\n64's utility is 0.3310644807388855\n64's utility is 0.7062741096361319\n91 stage one\n91's utility is -0.1380340302282837\n91's utility is -0.11150627998449208\n57 stage one\n57's utility is 0.21096371352434792\n57's utility is -0.7293067467556239\n43 stage one\n43's utility is 0.723552747633847\n43's utility is 0.4319639652764848\n92 stage one\n92's utility is -0.8481907521170625\n92's utility is 0.5891429303085691\n84 stage one\n84's utility is 0.022714359276894247\n84's utility is 0.03435914384378824\n36 stage one\n36's utility is -0.7589656785761025\n36's utility is 0.024571725739068295\n53 stage one\n53's utility is -2.731918510019934\n53's utility is -1.6808728626433993\n22 stage one\n22's utility is 0.13870100319935083\n22's utility is -0.03693841846541762\n51 stage one\n51's utility is -0.21430456278829335\n51's utility is 0.9141553077127766\n96 stage one\n96's utility is 0.10367066608737197\n96's utility is 0.6465466687655015\n50 stage one\n50's utility is 0.7324545885532827\n50's utility is 0.8002659246937849\n42 stage one\n42's utility is 0.37864415916752886\n42's utility is -0.2571609692645805\n4 stage one\n4's utility is -0.7817023743317455\n4's utility is -0.8279656979236074\n77 stage one\n77's utility is 0.008577718629841469\n77's utility is 0.23554132117758553\n66 stage one\n66's utility is 0.18382122268074436\n66's utility is 0.34841387833134774\n79 stage one\n79's utility is -0.046866202437038984\n79's utility is -0.3906434941111918\n33 stage one\n33's utility is 0.4983068492688188\n33's utility is 0.21686991217942117\n30 stage one\n30's utility is -1.4276723554680453\n30's utility is 0.38742967310165805\n26 stage one\n26's utility is -0.11344443055962941\n26's utility is 0.1476643434039503\n97 stage one\n97's utility is 0.008985667222707772\n97's utility is -0.2765357067183963\n38 stage one\n38's utility is 0.35156350319329355\n38's utility is -0.1492871419719189\n40 stage one\n40's utility is 0.4186715413013044\n40's utility is 0.5365519327353189\n23 stage one\n23's utility is 1.2184054273984555\n23's utility is 0.8802244769668188\n24 stage one\n24's utility is -0.14022062406318297\n24's utility is 0.28311979637721313\n21 stage one\n21's utility is 0.5601304215588858\n21's utility is 0.24481259856917736\n46 stage one\n46's utility is 0.8144035983634519\n46's utility is 0.7139362149411395\n5 stage one\n5's utility is 0.9225634938878143\n5's utility is 0.8215339820230911\n63 stage one\n63's utility is 1.00749733456072\n63's utility is 0.8504988943930336\n50 stage one\n50's utility is 1.1987756557850109\n50's utility is 1.2665869919255133\n78 stage one\n78's utility is 1.0425272017148675\n78's utility is 0.05195570587832665\n8 stage one\n8's utility is 0.5540540558909917\n8's utility is 1.1913092059517705\n11 stage one\n11's utility is 0.4793029902691266\n11's utility is 0.9044536450699733\n61 stage one\n61's utility is 1.3314099267442228\n61's utility is 0.7097017101694552\n45 stage one\n45's utility is 1.1243723144333142\n45's utility is 1.8661017565036149\n81 stage one\n81's utility is 0.7956058374899156\n81's utility is 0.36298261656913744\n73 stage one\n73's utility is 0.586028868357154\n73's utility is 0.7223553394838802\n14 stage one\n14's utility is 0.4719507156922489\n14's utility is 0.3886929874792302\n28 stage one\n28's utility is 1.0892697688697894\n28's utility is -0.3292415820520672\n87 stage one\n87's utility is 0.46537031350241137\n87's utility is 0.37752717780161305\n66 stage one\n66's utility is 0.6073301183330779\n66's utility is 0.7719227739836814\n70 stage one\n70's utility is 0.4850932234624192\n70's utility is 0.1822287329439395\n35 stage one\n35's utility is 0.40397429497802767\n35's utility is -0.7021863466639857\n18 stage one\n18's utility is 0.8977263907618254\n18's utility is 0.8979044166710666\n54 stage one\n54's utility is 1.234922568449562\n54's utility is -0.39242065090880135\n95 stage one\n95's utility is 0.22854968643303958\n95's utility is -0.47079501121122436\n25 stage one\n25's utility is 0.301101231299592\n25's utility is 1.1013336932396054\n83 stage one\n83's utility is 0.20305016451589664\n83's utility is 0.1526338016537196\n88 stage one\n88's utility is 0.47715199059869384\n88's utility is 0.2018443192994117\n43 stage one\n43's utility is 1.1460826007346867\n43's utility is 0.8544938183773243\n98 stage one\n98's utility is 0.9604510152532986\n98's utility is 0.8309746508416699\n44 stage one\n44's utility is 0.8561582214179843\n44's utility is 0.840770725149647\n13 stage one\n13's utility is 0.5416043332285531\n13's utility is 0.5473942745912453\n59 stage one\n59's utility is 0.7071760980918108\n59's utility is 0.5531277629784657\n67 stage one\n67's utility is 0.5694123539936436\n67's utility is 1.0515872861797195\n56 stage one\n56's utility is 0.7752604178369514\n56's utility is 1.0118970679963608\n3 stage one\n3's utility is 0.1654303814265382\n3's utility is 0.9362161486660374\n20 stage one\n20's utility is -0.9202480675787013\n20's utility is -1.6876004207488027\n49 stage one\n49's utility is 0.980750680298552\n49's utility is 0.8499484413551008\n91 stage one\n91's utility is 0.7097643686780108\n91's utility is 0.7362921189218026\n31 stage one\n31's utility is 0.27540817717667165\n31's utility is 1.1747237411205258\n9 stage one\n9's utility is 1.0047346724844664\n9's utility is 0.9851500811843631\n42 stage one\n42's utility is 1.187130726044957\n42's utility is 0.5513255976128477\n86 stage one\n86's utility is 0.860459128772962\n86's utility is 1.2636811720992625\n80 stage one\n80's utility is 0.8811350842339549\n80's utility is 0.7473026185088669\n79 stage one\n79's utility is 0.40083124004237547\n79's utility is 0.05705394836822264\n0 stage one\n0's utility is 1.5598850083133589\n0's utility is 1.1624201372715735\n40 stage one\n40's utility is 0.8750098050259832\n40's utility is 0.9928901964599978\n32 stage one\n32's utility is 0.3059162022510853\n32's utility is -0.4415876920813211\n27 stage one\n27's utility is 0.7183141835754128\n27's utility is 0.7034341109783115\n65 stage one\n65's utility is 0.429542885285057\n65's utility is -0.0701878281126248\n2 stage one\n2's utility is 0.4348708010002347\n2's utility is 0.8571077111885702\n26 stage one\n26's utility is 0.3878564756875518\n26's utility is 0.6489652496511316\n47 stage one\n47's utility is 0.3251593832688355\n47's utility is 0.14008726895717138\n39 stage one\n39's utility is -0.14063703692040475\n39's utility is 0.985397138254306\n37 stage one\n37's utility is 0.7709930261486517\n37's utility is 1.096824600431125\n17 stage one\n17's utility is 0.7036412103414684\n17's utility is 0.596075125519271\n10 stage one\n10's utility is -1.3947722454581104\n10's utility is 0.32394532056895803\n75 stage one\n75's utility is 0.9415469152814022\n75's utility is 0.8480026444973896\n72 stage one\n72's utility is 1.1662152688420366\n72's utility is 0.5452114557459432\n36 stage one\n36's utility is 0.1012128889817655\n36's utility is 0.8847502932969363\n33 stage one\n33's utility is 1.1452813342227428\n33's utility is 0.8638443971333453\n64 stage one\n64's utility is 0.932344726870823\n64's utility is 1.3075543557680696\n38 stage one\n38's utility is 1.0443665188656137\n38's utility is 0.5435158737004012\n85 stage one\n85's utility is 0.4413922427897482\n85's utility is 0.9711912180408551\n89 stage one\n89's utility is 0.3952718402546777\n89's utility is 0.10273841800339023\n29 stage one\n29's utility is 0.7796479806906018\n29's utility is -0.21749037317528375\n82 stage one\n82's utility is 0.7530571689702983\n82's utility is 0.41000999655443027\n93 stage one\n93's utility is -1.0846006758737237\n93's utility is -1.9661824033794764\n51 stage one\n51's utility is 0.07367941865839422\n51's utility is 1.2021392891594642\n77 stage one\n77's utility is 0.4357844218173836\n77's utility is 0.6627480243651277\n60 stage one\n60's utility is 0.5049241091822962\n60's utility is 0.9143430741750852\n92 stage one\n92's utility is -0.0926583963431542\n92's utility is 1.3446752860824775\n84 stage one\n84's utility is 0.618402498678918\n84's utility is 0.630047283245812\n96 stage one\n96's utility is 0.5348370047238966\n96's utility is 1.0777130074020262\n7 stage one\n7's utility is 0.5457692331942364\n7's utility is 0.6784677163186812\n19 stage one\n19's utility is 0.858241183434938\n19's utility is 0.5618556693308003\n76 stage one\n76's utility is 0.0988667814521561\n76's utility is 0.11016255469996472\n71 stage one\n71's utility is 1.1963941429113798\n71's utility is 0.04216313706586883\n6 stage one\n6's utility is 0.5718790262380229\n6's utility is 0.8864917987256473\n53 stage one\n53's utility is -2.038286242713154\n53's utility is -0.9872405953366191\n4 stage one\n4's utility is 0.23308632360398707\n4's utility is 0.18682300001212515\n24 stage one\n24's utility is 0.46510663046174333\n24's utility is 0.8884470509021396\n58 stage one\n58's utility is 1.0992601975214107\n58's utility is 1.363214155752642\n23 stage one\n23's utility is 1.7244153210858286\n23's utility is 1.386234370654192\n12 stage one\n12's utility is 0.45727911304440266\n12's utility is 0.7842603780880363\n1 stage one\n1's utility is -0.3624600606402284\n1's utility is -0.8963746616438255\n30 stage one\n30's utility is -0.7915248773596042\n30's utility is 1.0235771512100993\n57 stage one\n57's utility is 1.52604126973354\n57's utility is 0.5857708094535683\n52 stage one\n52's utility is 0.1502336879206413\n52's utility is -0.14071949789655047\n90 stage one\n90's utility is 0.427083600389056\n90's utility is 0.4230162569556526\n97 stage one\n97's utility is 0.03820110665283899\n97's utility is -0.24732026728826506\n62 stage one\n62's utility is 1.3140865859546769\n62's utility is 0.8259617381786126\n99 stage one\n99's utility is 0.566744544268937\n99's utility is 0.5432278446330809\n22 stage one\n22's utility is 0.3297618325767091\n22's utility is 0.15412241091194062\n48 stage one\n48's utility is 1.2649787544516926\n48's utility is 0.8207629365955835\n16 stage one\n16's utility is 0.41364709717969705\n16's utility is 0.5864055914503533\n41 stage one\n41's utility is 0.9741822844485051\n41's utility is 1.5330599066308987\n69 stage one\n69's utility is 0.23101091405302804\n69's utility is 0.1574263209428043\n15 stage one\n15's utility is 0.3397042578230065\n15's utility is 0.20884982835227414\n55 stage one\n55's utility is 0.9770915651337653\n55's utility is 0.7221726720126856\n34 stage one\n34's utility is 0.7492842373132135\n34's utility is 0.6513179338288915\n74 stage one\n74's utility is 0.2659248819070381\n74's utility is 0.61796528143654\n94 stage one\n94's utility is 0.783538637042041\n94's utility is 0.5762626591949112\n68 stage one\n68's utility is -0.7867406414756013\n68's utility is 0.19173748371907462\n"
    }
   ],
   "source": [
    "from model.model import HometimeModel\n",
    "\n",
    "model = HometimeModel(db_connection)\n",
    "for i in range(0, 10):\n",
    "    model.step()"
   ]
  },
  {
   "cell_type": "code",
   "execution_count": 5,
   "metadata": {},
   "outputs": [
    {
     "data": {
      "text/html": "<div>\n<style scoped>\n    .dataframe tbody tr th:only-of-type {\n        vertical-align: middle;\n    }\n\n    .dataframe tbody tr th {\n        vertical-align: top;\n    }\n\n    .dataframe thead th {\n        text-align: right;\n    }\n</style>\n<table border=\"1\" class=\"dataframe\">\n  <thead>\n    <tr style=\"text-align: right;\">\n      <th></th>\n      <th></th>\n      <th>Last Choice</th>\n    </tr>\n    <tr>\n      <th>Step</th>\n      <th>AgentID</th>\n      <th></th>\n    </tr>\n  </thead>\n  <tbody>\n    <tr>\n      <th rowspan=\"5\" valign=\"top\">0</th>\n      <th>0</th>\n      <td>None</td>\n    </tr>\n    <tr>\n      <th>1</th>\n      <td>None</td>\n    </tr>\n    <tr>\n      <th>2</th>\n      <td>None</td>\n    </tr>\n    <tr>\n      <th>3</th>\n      <td>None</td>\n    </tr>\n    <tr>\n      <th>4</th>\n      <td>None</td>\n    </tr>\n  </tbody>\n</table>\n</div>",
      "text/plain": "             Last Choice\nStep AgentID            \n0    0              None\n     1              None\n     2              None\n     3              None\n     4              None"
     },
     "execution_count": 5,
     "metadata": {},
     "output_type": "execute_result"
    }
   ],
   "source": [
    "agent_vars = model.datacollector.get_agent_vars_dataframe()\n",
    "agent_vars.head()"
   ]
  },
  {
   "cell_type": "code",
   "execution_count": 6,
   "metadata": {},
   "outputs": [
    {
     "data": {
      "text/html": "<div>\n<style scoped>\n    .dataframe tbody tr th:only-of-type {\n        vertical-align: middle;\n    }\n\n    .dataframe tbody tr th {\n        vertical-align: top;\n    }\n\n    .dataframe thead th {\n        text-align: right;\n    }\n</style>\n<table border=\"1\" class=\"dataframe\">\n  <thead>\n    <tr style=\"text-align: right;\">\n      <th></th>\n      <th>Good weather</th>\n    </tr>\n  </thead>\n  <tbody>\n    <tr>\n      <th>0</th>\n      <td>True</td>\n    </tr>\n    <tr>\n      <th>1</th>\n      <td>False</td>\n    </tr>\n    <tr>\n      <th>2</th>\n      <td>True</td>\n    </tr>\n    <tr>\n      <th>3</th>\n      <td>False</td>\n    </tr>\n    <tr>\n      <th>4</th>\n      <td>False</td>\n    </tr>\n  </tbody>\n</table>\n</div>",
      "text/plain": "   Good weather\n0          True\n1         False\n2          True\n3         False\n4         False"
     },
     "execution_count": 6,
     "metadata": {},
     "output_type": "execute_result"
    }
   ],
   "source": [
    "model_vars = model.datacollector.get_model_vars_dataframe()\n",
    "model_vars.head()"
   ]
  },
  {
   "cell_type": "code",
   "execution_count": null,
   "metadata": {},
   "outputs": [],
   "source": []
  }
 ]
}