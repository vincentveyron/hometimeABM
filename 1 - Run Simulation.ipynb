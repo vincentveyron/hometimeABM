{
 "nbformat": 4,
 "nbformat_minor": 2,
 "metadata": {
  "language_info": {
   "name": "python",
   "codemirror_mode": {
    "name": "ipython",
    "version": 3
   },
   "version": "3.7.6-final"
  },
  "orig_nbformat": 2,
  "file_extension": ".py",
  "mimetype": "text/x-python",
  "name": "python",
  "npconvert_exporter": "python",
  "pygments_lexer": "ipython3",
  "version": 3,
  "kernelspec": {
   "name": "python37664bithometimeabmcondad73b18dc80154d55ba9a66ca039e4933",
   "display_name": "Python 3.7.6 64-bit ('hometimeABM': conda)"
  }
 },
 "cells": [
  {
   "cell_type": "markdown",
   "execution_count": null,
   "metadata": {},
   "outputs": [],
   "source": [
    "create restaurants table"
   ]
  },
  {
   "cell_type": "code",
   "execution_count": 1,
   "metadata": {},
   "outputs": [],
   "source": [
    "import sqlite3\n",
    "from database.database_helper import create_restaurants_table\n",
    "db_connection = sqlite3.connect('hometimeABM_database.db')\n",
    "create_restaurants_table(db_connection)"
   ]
  },
  {
   "cell_type": "code",
   "execution_count": 2,
   "metadata": {},
   "outputs": [],
   "source": [
    "from database.database_helper import add_restaurant\n",
    "add_restaurant(db_connection, 'bomboclat', 69.69, 69.69)\n",
    "add_restaurant(db_connection, 'batsoup', 33.33, 33.33)"
   ]
  },
  {
   "cell_type": "code",
   "execution_count": 3,
   "metadata": {},
   "outputs": [
    {
     "data": {
      "text/plain": "[('bomboclat', 69.69, 69.69), ('batsoup', 33.33, 33.33)]"
     },
     "execution_count": 3,
     "metadata": {},
     "output_type": "execute_result"
    }
   ],
   "source": [
    "from database.database_helper import get_all_restaurants\n",
    "get_all_restaurants(db_connection)"
   ]
  },
  {
   "cell_type": "markdown",
   "execution_count": null,
   "metadata": {},
   "outputs": [],
   "source": [
    "This is an initial run of our model"
   ]
  },
  {
   "cell_type": "code",
   "execution_count": 4,
   "metadata": {},
   "outputs": [
    {
     "name": "stdout",
     "output_type": "stream",
     "text": "ility is 1.9154133216815485\n58 stage one\n58's utility is -0.23774168289169817\n58's utility is 1.823882382209202\n38 stage one\n38's utility is -0.6058638574719984\n38's utility is 1.4058455685311786\n79 stage one\n79's utility is 1.9824690367541218\n79's utility is 0.11752792274959761\n40 stage one\n40's utility is -1.680088857832527\n40's utility is 1.6678415247498632\n93 stage one\n93's utility is -1.8787454067990736\n93's utility is 0.8081283127073182\n5 stage one\n5's utility is 1.6673918489779895\n5's utility is -0.06853118322682705\n73 stage one\n73's utility is 1.1599866845808806\n73's utility is -0.30353228470216675\n31 stage one\n31's utility is 1.0548060383726092\n31's utility is 2.477707059588774\n76 stage one\n76's utility is 0.6599762040046921\n76's utility is -0.9722617810708275\n65 stage one\n65's utility is 1.9990591550104273\n65's utility is -0.46182261592771434\n41 stage one\n41's utility is 1.961800658562085\n41's utility is 0.687644181275637\n56 stage one\n56's utility is 2.176857830644406\n56's utility is 0.06960020788423499\n14 stage one\n14's utility is -0.14550860367003288\n14's utility is 1.263444457571564\n81 stage one\n81's utility is 2.3042229080015417\n81's utility is -0.08731125881033441\n48 stage one\n48's utility is 1.8706686230952934\n48's utility is 0.2070400426163096\n70 stage one\n70's utility is 1.6445529015791218\n70's utility is 0.3008750216567512\n30 stage one\n30's utility is 1.8149865309270496\n30's utility is 0.5529834588983921\n26 stage one\n26's utility is -0.19221837840862782\n26's utility is 2.2725233958841553\n27 stage one\n27's utility is 0.4927866424627785\n27's utility is 1.8230146607462578\n69 stage one\n69's utility is 1.079767240059462\n69's utility is -1.09499097656869\n33 stage one\n33's utility is 1.7319206262260072\n33's utility is 0.18334064588468102\n68 stage one\n68's utility is -3.262385169501541\n68's utility is -2.5081740251898013\n75 stage one\n75's utility is -0.8886980073686579\n75's utility is 0.8961815906305165\n17 stage one\n17's utility is -0.33729377289751417\n17's utility is 1.1017851708785764\n50 stage one\n50's utility is -0.46235242303092927\n50's utility is 1.4723960163770695\n83 stage one\n83's utility is 1.8560430353386448\n83's utility is 0.43538621620105616\n23 stage one\n23's utility is 0.2288953989590028\n23's utility is 1.511788857608293\n91 stage one\n91's utility is 0.29847180658965594\n91's utility is 1.797002723746759\n34 stage one\n34's utility is 0.7708382881436433\n34's utility is 2.310872972573992\n71 stage one\n71's utility is 2.5072196177127806\n71's utility is 0.599994008135446\n2 stage one\n2's utility is 0.7445952647282027\n2's utility is 2.0793991771272506\n88 stage one\n88's utility is 0.8374565767722784\n88's utility is -0.44750709986481957\n42 stage one\n42's utility is 1.5135392635904266\n42's utility is -0.47646381042584574\n87 stage one\n87's utility is 1.8143580799110701\n87's utility is -0.18834687470242445\n82 stage one\n82's utility is 0.30628422764110563\n82's utility is 2.1434394308288685\n25 stage one\n25's utility is -1.0916333922599255\n25's utility is 1.72905761384097\n12 stage one\n12's utility is -0.1078928477451066\n12's utility is 1.4247557717136645\n37 stage one\n37's utility is 1.7748574510060928\n37's utility is 0.3802169955871153\n51 stage one\n51's utility is -0.005035043130346639\n51's utility is 1.5376121894916972\n92 stage one\n92's utility is 2.0932699518201363\n92's utility is 0.36602584272995176\n74 stage one\n74's utility is 0.7856396265417186\n74's utility is 2.2069930215327886\n13 stage one\n13's utility is 2.583113025917779\n13's utility is 1.2961535362503918\n52 stage one\n52's utility is 2.036917341867557\n52's utility is 0.5406816991206923\n60 stage one\n60's utility is 0.25417611276048346\n60's utility is 1.6702358155545465\n78 stage one\n78's utility is 0.4323930391290929\n78's utility is 1.6919626032302157\n88 stage one\n88's utility is 1.9232529356139807\n88's utility is 0.6382764589768829\n80 stage one\n80's utility is 0.7751509052007535\n80's utility is 2.9334593567020395\n47 stage one\n47's utility is 2.3718407815082303\n47's utility is 0.7456873691067141\n79 stage one\n79's utility is 2.531961330554492\n79's utility is 0.6670074165499682\n8 stage one\n8's utility is -0.10269101386158375\n8's utility is -0.27290538016807886\n84 stage one\n84's utility is 0.6986496860492912\n84's utility is 3.0257673353480152\n14 stage one\n14's utility is 0.3700957792866307\n14's utility is 1.7790616405282274\n53 stage one\n53's utility is 0.15523284162416912\n53's utility is 1.6312882909019881\n10 stage one\n10's utility is -0.5229193618932175\n10's utility is -0.13493162743973586\n72 stage one\n72's utility is 0.3369487032450039\n72's utility is 2.1939638956211556\n73 stage one\n73's utility is 1.6161745684377717\n73's utility is 0.15264279915472478\n81 stage one\n81's utility is 2.4547833004754445\n81's utility is 0.06323633366356907\n29 stage one\n29's utility is -0.2723840415788097\n29's utility is 1.789039875497599\n99 stage one\n99's utility is 0.21662657237855554\n99's utility is 1.9829137451822203\n70 stage one\n70's utility is 2.1052426200348364\n70's utility is 0.7615519401124661\n20 stage one\n20's utility is 2.3017761229450495\n20's utility is 0.5413095391549088\n49 stage one\n49's utility is 0.3443950826523028\n49's utility is 1.981668817773551\n89 stage one\n89's utility is 1.2750092245145965\n89's utility is -0.3624857564817905\n17 stage one\n17's utility is 0.40755720778119847\n17's utility is 1.8466489515572893\n16 stage one\n16's utility is 2.741857721572464\n16's utility is 0.926682317512906\n55 stage one\n55's utility is 2.146412853165664\n55's utility is 0.681713085026109\n50 stage one\n50's utility is -0.08123172447999183\n50's utility is 1.853529514928007\n71 stage one\n71's utility is 2.8569032302391473\n71's utility is 0.9496648206618126\n66 stage one\n66's utility is 2.49214651644289\n66's utility is 0.6150743761500713\n7 stage one\n7's utility is 2.749507979338853\n7's utility is 0.41257298492880123\n77 stage one\n77's utility is 0.6910859809245222\n77's utility is 2.096813436757042\n43 stage one\n43's utility is 2.363486348282548\n43's utility is 0.18092815065546597\n46 stage one\n46's utility is 0.09581867252254528\n46's utility is 1.368633033900246\n56 stage one\n56's utility is 2.999301514234004\n56's utility is 0.8920310914738326\n6 stage one\n6's utility is 2.399958042190544\n6's utility is 0.7208695636318715\n68 stage one\n68's utility is -2.8266886244819545\n68's utility is -2.072477480170215\n90 stage one\n90's utility is 2.1039891559650545\n90's utility is 0.5694296431268009\n58 stage one\n58's utility is 0.42396847383166925\n58's utility is 2.4856053389325696\n64 stage one\n64's utility is -0.3067069194794715\n64's utility is -0.2512438202403293\n3 stage one\n3's utility is 0.7397286511852477\n3's utility is 2.222861421639015\n18 stage one\n18's utility is 2.2586608071202083\n18's utility is -0.2814472493910267\n94 stage one\n94's utility is 2.3324991855483206\n94's utility is 0.7436225639345628\n28 stage one\n28's utility is -1.090484673106866\n28's utility is -0.857851088697194\n38 stage one\n38's utility is -0.022443179404918356\n38's utility is 1.9892790465982584\n32 stage one\n32's utility is 2.116869348860189\n32's utility is 0.6844602667770663\n39 stage one\n39's utility is -0.09306100141355089\n39's utility is 2.447512211997878\n86 stage one\n86's utility is -1.0000311196271607\n86's utility is 1.4132667709019504\n41 stage one\n41's utility is 2.0802597282026443\n41's utility is 0.8060904509161965\n31 stage one\n31's utility is 1.0481127488204884\n31's utility is 2.471026570036653\n37 stage one\n37's utility is 2.5278146271865887\n37's utility is 1.133161371767611\n54 stage one\n54's utility is 0.9274443338855785\n54's utility is 2.4832240607862124\n91 stage one\n91's utility is 0.7036245556259562\n91's utility is 2.202168272783059\n45 stage one\n45's utility is 2.389117049611331\n45's utility is 0.3726305423011378\n67 stage one\n67's utility is 1.9680987862266965\n67's utility is 0.25540638643975055\n0 stage one\n0's utility is -0.8716593865234896\n0's utility is -0.183590243546222\n2 stage one\n2's utility is 0.950953657808549\n2's utility is 2.285770370207597\n92 stage one\n92's utility is 2.280407861372359\n92's utility is 0.5531509522821744\n48 stage one\n48's utility is 2.432022349403189\n48's utility is 0.7683809689242053\n22 stage one\n22's utility is 1.7902026684640377\n22's utility is -0.9155412507670833\n82 stage one\n82's utility is 0.8637698459671309\n82's utility is 2.7009378491548937\n51 stage one\n51's utility is 0.30942107002006924\n51's utility is 1.8520811026421131\n42 stage one\n42's utility is 2.085594780978547\n42's utility is 0.09557890696227478\n62 stage one\n62's utility is -0.3062563139525162\n62's utility is -0.07521432818072904\n61 stage one\n61's utility is 0.798760042294359\n61's utility is 2.294306863873658\n35 stage one\n35's utility is -0.04781370161525378\n35's utility is -0.18808492049825432\n27 stage one\n27's utility is 1.0652760867873283\n27's utility is 2.395516905070808\n24 stage one\n24's utility is 0.3634728269793687\n24's utility is 1.8684678407419089\n57 stage one\n57's utility is 0.19297846551002756\n57's utility is 1.4727603642246592\n36 stage one\n36's utility is 1.5773660161181646\n36's utility is -0.6163175258517706\n26 stage one\n26's utility is 0.23458541399088384\n26's utility is 2.6993399882836666\n75 stage one\n75's utility is -0.2169811324092129\n75's utility is 1.5679112655899612\n5 stage one\n5's utility is 2.2882691852566728\n5's utility is 0.5523333530518563\n19 stage one\n19's utility is -0.6856831239753696\n19's utility is -1.1020234585682918\n15 stage one\n15's utility is 1.0767178202392411\n15's utility is 2.804032264929305\n25 stage one\n25's utility is -0.9570008091896816\n25's utility is 1.8637029969112138\n95 stage one\n95's utility is 0.18887706227062961\n95's utility is 2.664797970290766\n69 stage one\n69's utility is 1.4633574530893068\n69's utility is -0.7114135635388452\n11 stage one\n11's utility is 0.4913326614653418\n11's utility is 2.0532904044248284\n30 stage one\n30's utility is 1.9579712206080897\n30's utility is 0.6959553485794324\n44 stage one\n44's utility is 0.4472804903384763\n44's utility is 2.2587036842405013\n87 stage one\n87's utility is 2.3439310741662243\n87's utility is 0.34121331955272977\n83 stage one\n83's utility is 2.4818849182771583\n83's utility is 1.0612152991395698\n23 stage one\n23's utility is 0.6941683240263655\n23's utility is 1.9770745826756557\n12 stage one\n12's utility is 0.5720842679211376\n12's utility is 2.1047456873799084\n4 stage one\n4's utility is 0.84678166906628\n4's utility is 2.705208400631729\n40 stage one\n40's utility is -1.3928946422571087\n40's utility is 1.9550485403252817\n9 stage one\n9's utility is 0.7825970865302454\n9's utility is 2.149511365397093\n33 stage one\n33's utility is 2.283407234075369\n33's utility is 0.7348144537340429\n76 stage one\n76's utility is 1.297615572427716\n76's utility is -0.3346352126478035\n96 stage one\n96's utility is 1.9941454023425924\n96's utility is 0.45394398490881727\n98 stage one\n98's utility is 0.12766676525977327\n98's utility is 1.8734784555297535\n85 stage one\n85's utility is 0.5906573126880046\n85's utility is 1.9295431925519322\n63 stage one\n63's utility is 0.6338872394974352\n63's utility is 2.041106284728301\n93 stage one\n93's utility is -1.2107243620128556\n93's utility is 1.4761621574935364\n21 stage one\n21's utility is 1.2462991972465347\n21's utility is 2.8496957782867183\n1 stage one\n1's utility is -1.3891873250736064\n1's utility is -2.24585211968836\n34 stage one\n34's utility is 0.9223626894470647\n34's utility is 2.462410173877413\n59 stage one\n59's utility is 2.157961391523969\n59's utility is 0.8293172955838761\n65 stage one\n65's utility is 2.360961506685331\n65's utility is -0.09993306425281046\n97 stage one\n97's utility is -1.3984283550732899\n97's utility is -0.5587498906487992\n18 stage one\n18's utility is 1.7129543907763567\n18's utility is -0.8271562257348786\n36 stage one\n36's utility is 0.7145764805125718\n36's utility is -1.4791096214573631\n14 stage one\n14's utility is -0.14550860367003288\n14's utility is 1.263459817571564\n39 stage one\n39's utility is -0.6944765569342874\n39's utility is 1.8460992164771415\n16 stage one\n16's utility is 2.0896322992366327\n16's utility is 0.27445433517707485\n62 stage one\n62's utility is -0.660789400839726\n62's utility is -0.4297474150679389\n66 stage one\n66's utility is 2.0403451840306484\n66's utility is 0.16327048373782926\n6 stage one\n6's utility is 1.7267039114393505\n6's utility is 0.04761287288067817\n42 stage one\n42's utility is 1.5135546235904265\n42's utility is -0.47646381042584574\n96 stage one\n96's utility is 2.050399239271481\n96's utility is 0.510195261837706\n91 stage one\n91's utility is 0.29847180658965594\n91's utility is 1.7970180837467589\n97 stage one\n97's utility is -2.188453238295378\n97's utility is -1.3487747738708873\n10 stage one\n10's utility is -1.2009368813640666\n10's utility is -0.812949146910585\n41 stage one\n41's utility is 1.961816018562085\n41's utility is 0.687644181275637\n59 stage one\n59's utility is 2.4099654392360175\n59's utility is 1.0813187832959246\n49 stage one\n49's utility is -0.14553445429058254\n49's utility is 1.4917418408306657\n79 stage one\n79's utility is 1.9824843967541217\n79's utility is 0.11752792274959761\n5 stage one\n5's utility is 1.6674072089779894\n5's utility is -0.06853118322682705\n47 stage one\n47's utility is 1.7973537132903739\n47's utility is 0.17119774088885784\n31 stage one\n31's utility is 1.0548060383726092\n31's utility is 2.477722419588774\n72 stage one\n72's utility is 0.05841092930539682\n72's utility is 1.9154286816815485\n61 stage one\n61's utility is 0.1502604512024035\n61's utility is 1.6458098327817026\n63 stage one\n63's utility is 0.5508137899126191\n63's utility is 1.9580353951434852\n69 stage one\n69's utility is 1.079782600059462\n69's utility is -1.09499097656869\n55 stage one\n55's utility is 1.8766731709283426\n55's utility is 0.4119708427887878\n54 stage one\n54's utility is 0.45522582766910386\n54's utility is 2.011008114569738\n71 stage one\n71's utility is 2.5072349777127805\n71's utility is 0.599994008135446\n86 stage one\n86's utility is -1.323263599089509\n86's utility is 1.090036851439602\n27 stage one\n27's utility is 0.4927866424627785\n27's utility is 1.8230300207462578\n20 stage one\n20's utility is 1.7411480282420244\n20's utility is -0.019321115548116587\n70 stage one\n70's utility is 1.6445682615791217\n70's utility is 0.3008750216567512\n37 stage one\n37's utility is 1.7748728110060927\n37's utility is 0.3802169955871153\n48 stage one\n48's utility is 1.8706839830952933\n48's utility is 0.2070400426163096\n4 stage one\n4's utility is 0.46372450555702993\n4's utility is 2.322153797122479\n11 stage one\n11's utility is 0.12619445915662564\n11's utility is 1.6881547621161117\n2 stage one\n2's utility is 0.7445952647282027\n2's utility is 2.0794145371272506\n35 stage one\n35's utility is -0.6724858792642738\n35's utility is -0.8127570981472744\n94 stage one\n94's utility is 1.8961804201662258\n94's utility is 0.307301238552468\n93 stage one\n93's utility is -1.8787454067990736\n93's utility is 0.8081436727073181\n56 stage one\n56's utility is 2.176873190644406\n56's utility is 0.06960020788423499\n25 stage one\n25's utility is -1.0916333922599255\n25's utility is 1.7290729738409698\n75 stage one\n75's utility is -0.8886980073686579\n75's utility is 0.8961969506305164\n87 stage one\n87's utility is 1.81437343991107\n87's utility is -0.18834687470242445\n73 stage one\n73's utility is 1.1600020445808805\n73's utility is -0.30353228470216675\n29 stage one\n29's utility is -0.8469998351936279\n29's utility is 1.214426641882781\n78 stage one\n78's utility is -0.23164229877926473\n78's utility is 1.027929825321858\n80 stage one\n80's utility is 0.16772084479659033\n80's utility is 2.326031856297876\n17 stage one\n17's utility is -0.33729377289751417\n17's utility is 1.1018005308785763\n81 stage one\n81's utility is 2.3042382680015416\n81's utility is -0.08731125881033441\n74 stage one\n74's utility is 0.2773486082377981\n74's utility is 1.698704563228868\n98 stage one\n98's utility is -0.007690112417136796\n98's utility is 1.7381241378528434\n26 stage one\n26's utility is -0.19221837840862782\n26's utility is 2.272538755884155\n8 stage one\n8's utility is -0.7213348331675578\n8's utility is -0.8915491994740529\n53 stage one\n53's utility is -0.25753336250404824\n53's utility is 1.218524646773771\n22 stage one\n22's utility is 0.9265071545818868\n22's utility is -1.7792393246492342\n57 stage one\n57's utility is -0.37129828014211885\n57's utility is 0.908486178572513\n7 stage one\n7's utility is 2.684941529649872\n7's utility is 0.3480039752398204\n32 stage one\n32's utility is 2.0559750839160973\n32's utility is 0.6235634418329746\n85 stage one\n85's utility is -0.030952260959901723\n85's utility is 1.307936178904026\n83 stage one\n83's utility is 1.8560583953386447\n83's utility is 0.43538621620105616\n45 stage one\n45's utility is 1.9410899932359915\n45's utility is -0.07539907407420232\n82 stage one\n82's utility is 0.30628422764110563\n82's utility is 2.1434547908288684\n1 stage one\n1's utility is -2.462548490101759\n1's utility is -3.3192132847165126\n34 stage one\n34's utility is 0.7708382881436433\n34's utility is 2.3108883325739917\n60 stage one\n60's utility is -0.6637475597908787\n60's utility is 0.7523147030031844\n38 stage one\n38's utility is -0.6058638574719984\n38's utility is 1.4058609285311785\n12 stage one\n12's utility is -0.1078928477451066\n12's utility is 1.4247711317136644\n28 stage one\n28's utility is -1.5376549638430104\n28's utility is -1.3050213794333383\n95 stage one\n95's utility is -0.00024043598810175038\n95's utility is 2.4756830320320344\n21 stage one\n21's utility is 1.0292366134115227\n21's utility is 2.632635754451707\n68 stage one\n68's utility is -3.262385169501541\n68's utility is -2.5081740251898013\n23 stage one\n23's utility is 0.2288953989590028\n23's utility is 1.5118042176082929\n33 stage one\n33's utility is 1.731935986226007\n33's utility is 0.18334064588468102\n84 stage one\n84's utility is -0.13496329665634438\n84's utility is 2.1921569126423797\n50 stage one\n50's utility is -0.46235242303092927\n50's utility is 1.4724113763770694\n67 stage one\n67's utility is 1.116516745763801\n67's utility is -0.5961782140231449\n0 stage one\n0's utility is -1.0845438446549072\n0's utility is -0.3964747016776393\n58 stage one\n58's utility is -0.23774168289169817\n58's utility is 1.823897742209202\n3 stage one\n3's utility is 0.4874001932037022\n3's utility is 1.970535523657469\n19 stage one\n19's utility is -0.9890001696716413\n19's utility is -1.4053405042645633\n9 stage one\n9's utility is 0.3171819385726693\n9's utility is 1.6840987774395166\n40 stage one\n40's utility is -1.680088857832527\n40's utility is 1.6678568847498632\n13 stage one\n13's utility is 1.9790592843001509\n13's utility is 0.6920972346327638\n76 stage one\n76's utility is 0.659991564004692\n76's utility is -0.9722617810708275\n44 stage one\n44's utility is -0.10351689004619768\n44's utility is 1.7079088638558275\n51 stage one\n51's utility is -0.005035043130346639\n51's utility is 1.537627549491697\n43 stage one\n43's utility is 2.117601304480115\n43's utility is -0.0649594531469675\n30 stage one\n30's utility is 1.8150018909270496\n30's utility is 0.5529834588983921\n77 stage one\n77's utility is -0.4336795366110293\n77's utility is 0.972050479221491\n64 stage one\n64's utility is -0.865609091066502\n64's utility is -0.8101459918273598\n46 stage one\n46's utility is -0.11424485064593326\n46's utility is 1.1585720707317675\n15 stage one\n15's utility is 0.29724619921298956\n15's utility is 2.0245632039030537\n88 stage one\n88's utility is 0.8374719367722783\n88's utility is -0.44750709986481957\n92 stage one\n92's utility is 2.093285311820136\n92's utility is 0.36602584272995176\n90 stage one\n90's utility is 1.48354107390392\n90's utility is -0.05102099893433382\n24 stage one\n24's utility is 0.09784557456520655\n24's utility is 1.6028431483277468\n65 stage one\n65's utility is 1.9990745150104272\n65's utility is -0.46182261592771434\n89 stage one\n89's utility is 0.5368344206844322\n89's utility is -1.1006631203119548\n99 stage one\n99's utility is -0.5030127562159532\n99's utility is 1.2632769765877114\n52 stage one\n52's utility is 1.3679274124497225\n52's utility is -0.1283107902971422\n"
    }
   ],
   "source": [
    "from model.model import HometimeModel\n",
    "\n",
    "model = HometimeModel(db_connection)\n",
    "for i in range(0, 10):\n",
    "    model.step()"
   ]
  },
  {
   "cell_type": "code",
   "execution_count": 5,
   "metadata": {},
   "outputs": [
    {
     "data": {
      "text/html": "<div>\n<style scoped>\n    .dataframe tbody tr th:only-of-type {\n        vertical-align: middle;\n    }\n\n    .dataframe tbody tr th {\n        vertical-align: top;\n    }\n\n    .dataframe thead th {\n        text-align: right;\n    }\n</style>\n<table border=\"1\" class=\"dataframe\">\n  <thead>\n    <tr style=\"text-align: right;\">\n      <th></th>\n      <th></th>\n      <th>Last Choice</th>\n    </tr>\n    <tr>\n      <th>Step</th>\n      <th>AgentID</th>\n      <th></th>\n    </tr>\n  </thead>\n  <tbody>\n    <tr>\n      <th rowspan=\"5\" valign=\"top\">0</th>\n      <th>0</th>\n      <td>None</td>\n    </tr>\n    <tr>\n      <th>1</th>\n      <td>None</td>\n    </tr>\n    <tr>\n      <th>2</th>\n      <td>None</td>\n    </tr>\n    <tr>\n      <th>3</th>\n      <td>None</td>\n    </tr>\n    <tr>\n      <th>4</th>\n      <td>None</td>\n    </tr>\n  </tbody>\n</table>\n</div>",
      "text/plain": "             Last Choice\nStep AgentID            \n0    0              None\n     1              None\n     2              None\n     3              None\n     4              None"
     },
     "execution_count": 5,
     "metadata": {},
     "output_type": "execute_result"
    }
   ],
   "source": [
    "agent_vars = model.datacollector.get_agent_vars_dataframe()\n",
    "agent_vars.head()"
   ]
  },
  {
   "cell_type": "code",
   "execution_count": 6,
   "metadata": {},
   "outputs": [
    {
     "data": {
      "text/html": "<div>\n<style scoped>\n    .dataframe tbody tr th:only-of-type {\n        vertical-align: middle;\n    }\n\n    .dataframe tbody tr th {\n        vertical-align: top;\n    }\n\n    .dataframe thead th {\n        text-align: right;\n    }\n</style>\n<table border=\"1\" class=\"dataframe\">\n  <thead>\n    <tr style=\"text-align: right;\">\n      <th></th>\n      <th>Good weather</th>\n    </tr>\n  </thead>\n  <tbody>\n    <tr>\n      <th>0</th>\n      <td>True</td>\n    </tr>\n    <tr>\n      <th>1</th>\n      <td>True</td>\n    </tr>\n    <tr>\n      <th>2</th>\n      <td>True</td>\n    </tr>\n    <tr>\n      <th>3</th>\n      <td>True</td>\n    </tr>\n    <tr>\n      <th>4</th>\n      <td>True</td>\n    </tr>\n  </tbody>\n</table>\n</div>",
      "text/plain": "   Good weather\n0          True\n1          True\n2          True\n3          True\n4          True"
     },
     "execution_count": 6,
     "metadata": {},
     "output_type": "execute_result"
    }
   ],
   "source": [
    "model_vars = model.datacollector.get_model_vars_dataframe()\n",
    "model_vars.head()"
   ]
  },
  {
   "cell_type": "code",
   "execution_count": null,
   "metadata": {},
   "outputs": [],
   "source": []
  }
 ]
}